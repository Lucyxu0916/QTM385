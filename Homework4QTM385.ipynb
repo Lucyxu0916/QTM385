{
 "cells": [
  {
   "cell_type": "markdown",
   "metadata": {},
   "source": [
    "# QTM 385\n",
    "\n",
    "***\n",
    "\n",
    "## Homework 4\n",
    "\n",
    "Student: [Lucy Xu 2281631]"
   ]
  },
  {
   "cell_type": "markdown",
   "metadata": {},
   "source": [
    "In this homework, we will create an object called Student, that is useful for a professor to store information about a student."
   ]
  },
  {
   "cell_type": "markdown",
   "metadata": {},
   "source": [
    "\n",
    "***\n",
    "\n",
    "### Question 1\n",
    "\n",
    "Create a class Student, that has:\n",
    "\n",
    "0. Id number (5-digits integer, starting with 1)\n",
    "1. First Name (str)\n",
    "2. Last Name (str)\n",
    "3. Grades (list of floats)\n",
    "4. Credits (list of integers)\n",
    "5. Major (str)\n",
    "\n",
    "Provide a constructor for your class and create one fictitious student."
   ]
  },
  {
   "cell_type": "code",
   "execution_count": 1,
   "metadata": {},
   "outputs": [],
   "source": [
    "# Your answer here\n",
    "class Student:\n",
    "    def __init__(self,ID,first,last,grades,credits,major):\n",
    "        self.id=ID\n",
    "        self.first=first\n",
    "        self.last=last\n",
    "        self.grades=grades\n",
    "        self.credits=credits\n",
    "        self.major=major"
   ]
  },
  {
   "cell_type": "code",
   "execution_count": 2,
   "metadata": {},
   "outputs": [],
   "source": [
    "stu=Student(10234,\"Mary\",\"Kim\",[96.7,98.7,99.2],[3,3,4],'QTM')"
   ]
  },
  {
   "cell_type": "code",
   "execution_count": 3,
   "metadata": {},
   "outputs": [
    {
     "data": {
      "text/plain": [
       "10234"
      ]
     },
     "execution_count": 3,
     "metadata": {},
     "output_type": "execute_result"
    }
   ],
   "source": [
    "stu.id"
   ]
  },
  {
   "cell_type": "code",
   "execution_count": 4,
   "metadata": {},
   "outputs": [
    {
     "data": {
      "text/plain": [
       "[96.7, 98.7, 99.2]"
      ]
     },
     "execution_count": 4,
     "metadata": {},
     "output_type": "execute_result"
    }
   ],
   "source": [
    "stu.grades"
   ]
  },
  {
   "cell_type": "markdown",
   "metadata": {},
   "source": [
    "\n",
    "***\n",
    "\n",
    "### Question 2\n",
    "\n",
    "Create a method to nicely display the student when we type `print`. It should display, for example:\n",
    "\n",
    "```\n",
    "Student:\n",
    "    Id: 12345\n",
    "    Name: Mig, Umberto\n",
    "    Major: QSS\n",
    "```\n",
    "\n",
    "Create a method that, when a variable storing a student is typed in the console, displays:\n",
    "\n",
    "```\n",
    "Student(Mig, Umberto; 12345)\n",
    "```\n",
    "\n",
    "Provide some testing with a fictitious result of your choice."
   ]
  },
  {
   "cell_type": "code",
   "execution_count": 5,
   "metadata": {},
   "outputs": [],
   "source": [
    "# Your answer here\n",
    "class Student:\n",
    "    def __init__(self,ID,first,last,grades,credits,major):\n",
    "        self.id=ID\n",
    "        self.first=first\n",
    "        self.last=last\n",
    "        self.grades=grades\n",
    "        self.credits=credits\n",
    "        self.major=major\n",
    "    \n",
    "    def __str__(self):\n",
    "        stu_info=\"\"\"\n",
    "        Student:\n",
    "            Id: {id}\n",
    "            Name: {last}, {first}\n",
    "            Major: {major}\n",
    "            \"\"\".format(id=self.id,first=self.first,last=self.last,major=self.major)\n",
    "        return stu_info\n",
    "    \n",
    "    def __repr__(self):\n",
    "        return \"Student({last}, {first}; {id})\".format(last=self.last,first=self.first,id=self.id)"
   ]
  },
  {
   "cell_type": "code",
   "execution_count": 6,
   "metadata": {},
   "outputs": [],
   "source": [
    "stu=Student(10234,\"Mary\",\"Kim\",[96.7,98.7,99.2],[3,3,4],'QTM')"
   ]
  },
  {
   "cell_type": "code",
   "execution_count": 7,
   "metadata": {},
   "outputs": [
    {
     "name": "stdout",
     "output_type": "stream",
     "text": [
      "\n",
      "        Student:\n",
      "            Id: 10234\n",
      "            Name: Kim, Mary\n",
      "            Major: QTM\n",
      "            \n"
     ]
    }
   ],
   "source": [
    "print(stu)"
   ]
  },
  {
   "cell_type": "code",
   "execution_count": 8,
   "metadata": {},
   "outputs": [
    {
     "data": {
      "text/plain": [
       "Student(Kim, Mary; 10234)"
      ]
     },
     "execution_count": 8,
     "metadata": {},
     "output_type": "execute_result"
    }
   ],
   "source": [
    "stu"
   ]
  },
  {
   "cell_type": "markdown",
   "metadata": {},
   "source": [
    "\n",
    "***\n",
    "\n",
    "### Question 3\n",
    "\n",
    "Implement class methods for:\n",
    "\n",
    "1. Check if the id number is valid (remember: 5 digits, starting with number one)\n",
    "2. Check if the grades list has the same length as the credits list. The idea is that every grade corresponds to a course that gave the student a certain amount of credits.\n",
    "3. Append grade and credit: given a grade, and credits attached to the grade, append both to each respective place.\n",
    "\n",
    "Test your function with a toy student of your choice."
   ]
  },
  {
   "cell_type": "code",
   "execution_count": 9,
   "metadata": {},
   "outputs": [],
   "source": [
    "# Your answer here\n",
    "class Student:\n",
    "    def __init__(self,ID,first,last,grades,credits,major):\n",
    "        self.id=ID\n",
    "        self.first=first\n",
    "        self.last=last\n",
    "        self.grades=grades\n",
    "        self.credits=credits\n",
    "        self.major=major\n",
    "        \n",
    "    def __str__(self):\n",
    "        st_info=\"\"\"\n",
    "        Student:\n",
    "            Id: {id}\n",
    "            Name: {first}, {last}\n",
    "            Major: {major}\n",
    "            \"\"\".format(id=self.id,first=self.first,last=self.last,major=self.major)\n",
    "        return st_info\n",
    "    \n",
    "    def __repr__(self):\n",
    "        return \"Student({first}, {last}; {id})\".format(first=self.first,last=self.last,id=self.id)\n",
    "    \n",
    "    def check_id(self):\n",
    "        if len(str(self.id))==5 and str(self.id)[0]=='1':\n",
    "            return \"Valid ID Number\"\n",
    "        else:     \n",
    "            return \"Not Valid ID Number\"\n",
    "        \n",
    "    def check_grades(self):\n",
    "        if len(self.grades)==len(self.credits):\n",
    "            return \"The grades list has the same length as the credits list\"\n",
    "        else:\n",
    "            return \"The grades list has the different length as the credits list\"\n",
    "    \n",
    "    def append(self,grade,credit):\n",
    "        self.grades.append(grade)\n",
    "        self.credits.append(credit)\n",
    "    "
   ]
  },
  {
   "cell_type": "code",
   "execution_count": 10,
   "metadata": {},
   "outputs": [],
   "source": [
    "stu=Student(10234,\"Mary\",\"Kim\",[96.7,98.7,99.2],[3,3,4],'QTM')"
   ]
  },
  {
   "cell_type": "code",
   "execution_count": 11,
   "metadata": {},
   "outputs": [
    {
     "data": {
      "text/plain": [
       "'Valid ID Number'"
      ]
     },
     "execution_count": 11,
     "metadata": {},
     "output_type": "execute_result"
    }
   ],
   "source": [
    "stu.check_id()"
   ]
  },
  {
   "cell_type": "code",
   "execution_count": 12,
   "metadata": {},
   "outputs": [
    {
     "data": {
      "text/plain": [
       "'The grades list has the same length as the credits list'"
      ]
     },
     "execution_count": 12,
     "metadata": {},
     "output_type": "execute_result"
    }
   ],
   "source": [
    "stu.check_grades()"
   ]
  },
  {
   "cell_type": "code",
   "execution_count": 13,
   "metadata": {},
   "outputs": [],
   "source": [
    "stu.append(100,2)"
   ]
  },
  {
   "cell_type": "code",
   "execution_count": 14,
   "metadata": {},
   "outputs": [
    {
     "data": {
      "text/plain": [
       "[3, 3, 4, 2]"
      ]
     },
     "execution_count": 14,
     "metadata": {},
     "output_type": "execute_result"
    }
   ],
   "source": [
    "stu.credits"
   ]
  },
  {
   "cell_type": "code",
   "execution_count": 15,
   "metadata": {},
   "outputs": [
    {
     "data": {
      "text/plain": [
       "[96.7, 98.7, 99.2, 100]"
      ]
     },
     "execution_count": 15,
     "metadata": {},
     "output_type": "execute_result"
    }
   ],
   "source": [
    "stu.grades"
   ]
  },
  {
   "cell_type": "code",
   "execution_count": 16,
   "metadata": {},
   "outputs": [],
   "source": [
    "stu2=Student(20234,\"Peter\",\"Sun\",[96.7,98.7,99.2],[3,3,4,9],'QTM')"
   ]
  },
  {
   "cell_type": "code",
   "execution_count": 17,
   "metadata": {},
   "outputs": [
    {
     "data": {
      "text/plain": [
       "'Not Valid ID Number'"
      ]
     },
     "execution_count": 17,
     "metadata": {},
     "output_type": "execute_result"
    }
   ],
   "source": [
    "stu2.check_id()"
   ]
  },
  {
   "cell_type": "code",
   "execution_count": 18,
   "metadata": {},
   "outputs": [
    {
     "data": {
      "text/plain": [
       "'The grades list has the different length as the credits list'"
      ]
     },
     "execution_count": 18,
     "metadata": {},
     "output_type": "execute_result"
    }
   ],
   "source": [
    "stu2.check_grades()"
   ]
  },
  {
   "cell_type": "markdown",
   "metadata": {},
   "source": [
    "\n",
    "***\n",
    "\n",
    "### Question 4\n",
    "\n",
    "Create a module in the class Student that computes the unweighted average of the student's grades."
   ]
  },
  {
   "cell_type": "code",
   "execution_count": 19,
   "metadata": {},
   "outputs": [],
   "source": [
    "# Your answer here\n",
    "class Student:\n",
    "    def __init__(self,ID,first,last,grades,credits,major):\n",
    "        self.id=ID\n",
    "        self.first=first\n",
    "        self.last=last\n",
    "        self.grades=grades\n",
    "        self.credits=credits\n",
    "        self.major=major\n",
    "        \n",
    "    def __str__(self):\n",
    "        st_info=\"\"\"\n",
    "        Student:\n",
    "            Id: {id}\n",
    "            Name: {first}, {last}\n",
    "            Major: {major}\n",
    "            \"\"\".format(id=self.id,first=self.first,last=self.last,major=self.major)\n",
    "        return st_info\n",
    "    \n",
    "    def __repr__(self):\n",
    "        return \"Student({first}, {last}; {id})\".format(first=self.first,last=self.last,id=self.id)\n",
    "    \n",
    "    def check_id(self):\n",
    "        if len(str(self.id))==5 and str(self.id)[0]=='1':\n",
    "            return \"Valid ID Number\"\n",
    "        else:     \n",
    "            return \"Not Valid ID Number\"\n",
    "        \n",
    "    def check_grades(self):\n",
    "        if len(self.grades)==len(self.credits):\n",
    "            return \"The grades list has the same length as the credits list\"\n",
    "        else:\n",
    "            return \"The grades list has the different length as the credits list\"\n",
    "    \n",
    "    def append(self,grade,credit):\n",
    "        self.grades.append(grade)\n",
    "        self.credits.append(credit)\n",
    "        \n",
    "    def compute_avg(self):\n",
    "        sum=0\n",
    "        for grade in self.grades:\n",
    "            sum+=grade\n",
    "        return sum/len(self.grades)"
   ]
  },
  {
   "cell_type": "code",
   "execution_count": 20,
   "metadata": {},
   "outputs": [],
   "source": [
    "stu=Student(20234,\"Lucy\",\"Xu\",[66.7,98.7,99.2],[3,3,4],'QTM')"
   ]
  },
  {
   "cell_type": "code",
   "execution_count": 21,
   "metadata": {},
   "outputs": [
    {
     "data": {
      "text/plain": [
       "88.2"
      ]
     },
     "execution_count": 21,
     "metadata": {},
     "output_type": "execute_result"
    }
   ],
   "source": [
    "stu.compute_avg()"
   ]
  },
  {
   "cell_type": "markdown",
   "metadata": {},
   "source": [
    "\n",
    "***\n",
    "\n",
    "### Question 5\n",
    "\n",
    "Create a module in the class Student that computes the weighted average of the student's grades, weighted by the credits."
   ]
  },
  {
   "cell_type": "code",
   "execution_count": 22,
   "metadata": {},
   "outputs": [],
   "source": [
    "# Your answer here\n",
    "class Student:\n",
    "    def __init__(self,ID,first,last,grades,credits,major):\n",
    "        self.id=ID\n",
    "        self.first=first\n",
    "        self.last=last\n",
    "        self.grades=grades\n",
    "        self.credits=credits\n",
    "        self.major=major\n",
    "        \n",
    "    def __str__(self):\n",
    "        st_info=\"\"\"\n",
    "        Student:\n",
    "            Id: {id}\n",
    "            Name: {first}, {last}\n",
    "            Major: {major}\n",
    "            \"\"\".format(id=self.id,first=self.first,last=self.last,major=self.major)\n",
    "        return st_info\n",
    "    \n",
    "    def __repr__(self):\n",
    "        return \"Student({first}, {last}; {id})\".format(first=self.first,last=self.last,id=self.id)\n",
    "    \n",
    "    def check_id(self):\n",
    "        if len(str(self.id))==5 and str(self.id)[0]=='1':\n",
    "            return \"Valid ID Number\"\n",
    "        else:     \n",
    "            return \"Not Valid ID Number\"\n",
    "        \n",
    "    def check_grades(self):\n",
    "        if len(self.grades)==len(self.credits):\n",
    "            return \"The grades list has the same length as the credits list\"\n",
    "        else:\n",
    "            return \"The grades list has the different length as the credits list\"\n",
    "    \n",
    "    def append(self,grade,credit):\n",
    "        self.grades.append(grade)\n",
    "        self.credits.append(credit)\n",
    "        \n",
    "    def compute_avg(self):\n",
    "        sum=0\n",
    "        for grade in self.grades:\n",
    "            sum+=grade\n",
    "        return sum/len(self.grades)\n",
    "    \n",
    "    def compute_weighted_avg(self):\n",
    "        sum=0\n",
    "        credits=0\n",
    "        for i in range(len(self.grades)):\n",
    "            sum+=self.grades[i]*self.credits[i]\n",
    "            credits+=self.credits[i]\n",
    "        return sum/credits\n"
   ]
  },
  {
   "cell_type": "code",
   "execution_count": 23,
   "metadata": {},
   "outputs": [],
   "source": [
    "stu=Student(10234,\"Mary\",\"Kim\",[66.7,98.7,99.2],[3,3,4],'QTM')"
   ]
  },
  {
   "cell_type": "code",
   "execution_count": 24,
   "metadata": {},
   "outputs": [
    {
     "data": {
      "text/plain": [
       "89.3"
      ]
     },
     "execution_count": 24,
     "metadata": {},
     "output_type": "execute_result"
    }
   ],
   "source": [
    "stu.compute_weighted_avg()"
   ]
  },
  {
   "cell_type": "markdown",
   "metadata": {},
   "source": [
    "**That's all, folks!**"
   ]
  }
 ],
 "metadata": {
  "kernelspec": {
   "display_name": "Python 3",
   "language": "python",
   "name": "python3"
  },
  "language_info": {
   "codemirror_mode": {
    "name": "ipython",
    "version": 3
   },
   "file_extension": ".py",
   "mimetype": "text/x-python",
   "name": "python",
   "nbconvert_exporter": "python",
   "pygments_lexer": "ipython3",
   "version": "3.8.5"
  }
 },
 "nbformat": 4,
 "nbformat_minor": 4
}
